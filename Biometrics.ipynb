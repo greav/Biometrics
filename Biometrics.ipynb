{
 "cells": [
  {
   "cell_type": "code",
   "execution_count": 346,
   "metadata": {},
   "outputs": [],
   "source": [
    "import cv2 as cv\n",
    "import numpy as np\n",
    "import os\n",
    "import matplotlib.pyplot as plt\n",
    "from sklearn.model_selection import train_test_split\n",
    "from scipy.fftpack import dct\n",
    "from skimage.transform import rescale"
   ]
  },
  {
   "cell_type": "code",
   "execution_count": 356,
   "metadata": {},
   "outputs": [],
   "source": [
    "images_path = 'att_faces'"
   ]
  },
  {
   "cell_type": "code",
   "execution_count": 357,
   "metadata": {},
   "outputs": [],
   "source": [
    "images = []\n",
    "labels = []\n",
    "for label, dir_name in enumerate(sorted(os.listdir(images_path))):\n",
    "    dir_path = os.path.join(images_path, dir_name)\n",
    "    for image_name in os.listdir(dir_path):\n",
    "        image_path = os.path.join(dir_path, image_name)\n",
    "        img = cv.imread(image_path, 0)\n",
    "        images.append(img)\n",
    "        labels.append(label)"
   ]
  },
  {
   "cell_type": "code",
   "execution_count": 343,
   "metadata": {},
   "outputs": [],
   "source": [
    "class BrightnessClassifier:\n",
    "    \"\"\"\n",
    "        Классификатор на основе гистограммы яркости\n",
    "    \"\"\"\n",
    "    def __init__(self, hist_size=256):\n",
    "        self.hist_size = hist_size\n",
    "    \n",
    "    def fit(self, X_train, y_train):\n",
    "        self.X_train = X_train\n",
    "        self.y_train = y_train\n",
    "        self.train_histograms = []\n",
    "        for train_image in self.X_train:\n",
    "            train_hist = cv.calcHist([train_image], [0], None, [self.hist_size],[0,256])\n",
    "            self.train_histograms.append(train_hist)\n",
    "    \n",
    "    def predict(self, test_images):\n",
    "        predictions = []\n",
    "        for test_image in test_images:\n",
    "            distances = []\n",
    "            test_hist = cv.calcHist([test_image], [0], None, [self.hist_size],[0,256])\n",
    "            for train_hist in self.train_histograms:\n",
    "                dist = np.linalg.norm(test_hist - train_hist)\n",
    "                distances.append(dist)\n",
    "            prediction = self.y_train[np.argmin(distances)]\n",
    "            predictions.append(prediction)\n",
    "            \n",
    "        return np.array(predictions)\n",
    "            "
   ]
  },
  {
   "cell_type": "code",
   "execution_count": 516,
   "metadata": {},
   "outputs": [],
   "source": [
    "class DFTClassifier:\n",
    "    \"\"\"\n",
    "        Классификатор на основе дискретного преобразования Фурье\n",
    "    \"\"\"\n",
    "    def __init__(self, size=1.0):\n",
    "        self.size = size\n",
    "    \n",
    "    def fit(self, X_train, y_train):\n",
    "        self.X_train = X_train\n",
    "        self.y_train = y_train\n",
    "        self.max_row = int(X_train[0].shape[0]*self.size)\n",
    "        self.max_column = int(X_train[0].shape[1]*self.size)\n",
    "        self.train_dfts = []\n",
    "        for train_image in self.X_train:\n",
    "            train_dft = np.fft.fft2(train_image)\n",
    "            train_dft = np.fft.fftshift(train_dft)\n",
    "            train_dft = 20*np.log(np.abs(train_dft))\n",
    "            train_dft = train_dft[:self.max_row, :self.max_column]    \n",
    "            self.train_dfts.append(train_dft)\n",
    "    \n",
    "    def predict(self, test_images):\n",
    "        predictions = []\n",
    "        for test_image in test_images:\n",
    "            distances = []\n",
    "            test_dft = np.fft.fft2(test_image)\n",
    "            test_dft = np.fft.fftshift(test_dft)\n",
    "            test_dft = 20*np.log(np.abs(test_dft))\n",
    "            test_dft = test_dft[:self.max_row, :self.max_column]\n",
    "            for train_dft in self.train_dfts:\n",
    "                dist = np.linalg.norm(test_dft.ravel() - train_dft.ravel())\n",
    "                distances.append(dist)\n",
    "            prediction = self.y_train[np.argmin(distances)]\n",
    "            predictions.append(prediction)     \n",
    "            \n",
    "        return np.array(predictions)"
   ]
  },
  {
   "cell_type": "code",
   "execution_count": 448,
   "metadata": {},
   "outputs": [],
   "source": [
    "class DCTClassifier:\n",
    "    \"\"\"\n",
    "        Классификатор на основе дискретного косинусного преобразования\n",
    "        @param: float size: Использует прямоугольник размером size*row и size*columns от всего изображения\n",
    "    \"\"\"\n",
    "    def __init__(self, size=1.0):\n",
    "        self.size = size\n",
    "    \n",
    "    def fit(self, X_train, y_train):\n",
    "        self.X_train = X_train\n",
    "        self.y_train = y_train\n",
    "        self.max_row = int(X_train[0].shape[0]*self.size)\n",
    "        self.max_column = int(X_train[0].shape[1]*self.size)\n",
    "        self.train_dcts = []\n",
    "        for train_image in self.X_train:\n",
    "            train_dct = dct(dct(train_image.T, norm='ortho').T, norm='ortho')\n",
    "            train_dct = train_dct[:self.max_row, :self.max_column]\n",
    "            self.train_dcts.append(train_dct)    \n",
    "    \n",
    "    def predict(self, test_images):\n",
    "        predictions = []\n",
    "        for test_image in test_images:\n",
    "            distances = []\n",
    "            test_dct = dct(dct(test_image.T, norm='ortho').T, norm='ortho')\n",
    "            test_dct = test_dct[:self.max_row, :self.max_column]\n",
    "            for train_dct in self.train_dcts:\n",
    "                dist = np.linalg.norm(train_dct.ravel() - test_dct.ravel())\n",
    "                distances.append(dist)\n",
    "            prediction = self.y_train[np.argmin(distances)]\n",
    "            predictions.append(prediction)\n",
    "        \n",
    "        return np.array(predictions)"
   ]
  },
  {
   "cell_type": "code",
   "execution_count": 319,
   "metadata": {},
   "outputs": [],
   "source": [
    "class ScaleClassifier:\n",
    "    \"\"\"\n",
    "        Классификатор на основе масштабирования\n",
    "        @param array-like sizes: Представляет собой массив масштабов\n",
    "    \"\"\"\n",
    "    def __init__(self, sizes=[1.0]):\n",
    "        self.sizes = sizes\n",
    "    \n",
    "    def fit(self, X_train, y_train):\n",
    "        self.X_train = X_train\n",
    "        self.y_train = y_train\n",
    "        self.train_rescaled_imgs = []\n",
    "        for train_image in self.X_train:\n",
    "            rescaled = self.get_rescaled_imgs(train_image)\n",
    "            self.train_rescaled_imgs.append(rescaled)\n",
    "    \n",
    "    def get_rescaled_imgs(self, img):\n",
    "        rescaled_imgs = []\n",
    "        for size in self.sizes:   \n",
    "            rescaled_img = rescale(img, size, mode='constant', anti_aliasing=False, multichannel=False)\n",
    "            rescaled_imgs.append(rescaled_img)\n",
    "        return rescaled_imgs       \n",
    "    \n",
    "    def get_avg_distance(self, rescaled_img1, rescaled_img2):\n",
    "        total_dist = 0\n",
    "        for i in range(len(self.sizes)):\n",
    "            total_dist += np.linalg.norm(rescaled_img1[i].ravel() - rescaled_img2[i].ravel())\n",
    "        \n",
    "        return total_dist / len(self.sizes)\n",
    "    \n",
    "    def predict(self, test_images):\n",
    "        predictions = []\n",
    "        for test_image in test_images:\n",
    "            distances = []\n",
    "            test_rescaled_img = self.get_rescaled_imgs(test_image)\n",
    "            for train_rescaled_img in self.train_rescaled_imgs:\n",
    "                dist = self.get_avg_distance(test_rescaled_img, train_rescaled_img)\n",
    "                distances.append(dist)\n",
    "            prediction = self.y_train[np.argmin(distances)]\n",
    "            predictions.append(prediction)\n",
    "            \n",
    "        return np.array(predictions)   "
   ]
  },
  {
   "cell_type": "code",
   "execution_count": 332,
   "metadata": {},
   "outputs": [],
   "source": [
    "class GradientClassifier:\n",
    "    \"\"\"\n",
    "        Классификатор на основе градиента\n",
    "        @param: int ksize: Размер ядра\n",
    "    \"\"\"\n",
    "    def __init__(self, ksize=-1):\n",
    "        self.ksize = ksize\n",
    "    \n",
    "    def fit(self, X_train, y_train):\n",
    "        self.X_train = X_train\n",
    "        self.y_train= y_train\n",
    "        self.train_gradients = []\n",
    "        for train_image in self.X_train:\n",
    "            train_grad = cv.Sobel(train_image, cv.CV_64F, 0, 1, ksize=self.ksize)\n",
    "            self.train_gradients.append(train_grad)\n",
    "    \n",
    "    def predict(self, test_images):\n",
    "        predictions = []\n",
    "        for test_image in test_images:\n",
    "            distances = []\n",
    "            test_grad = cv.Sobel(test_image, cv.CV_64F, 0, 1, ksize=self.ksize)\n",
    "            for train_grad in self.train_gradients:\n",
    "                dist = np.linalg.norm(test_grad.ravel() - train_grad.ravel())\n",
    "                distances.append(dist)\n",
    "            prediction = self.y_train[np.argmin(distances)]\n",
    "            predictions.append(prediction)\n",
    "        \n",
    "        return np.array(predictions)"
   ]
  },
  {
   "cell_type": "code",
   "execution_count": 263,
   "metadata": {},
   "outputs": [],
   "source": [
    "def accuracy_score(y_pred, y_test):\n",
    "    return sum(y_pred == y_test) / len(y_test)"
   ]
  },
  {
   "cell_type": "code",
   "execution_count": 362,
   "metadata": {},
   "outputs": [],
   "source": [
    "X_train, X_test, y_train, y_test = train_test_split(images, labels, test_size=len(np.unique(labels)), \n",
    "                                                    random_state=25, stratify=labels)"
   ]
  },
  {
   "cell_type": "markdown",
   "metadata": {},
   "source": [
    "# Тестирование на обучающей выборке"
   ]
  },
  {
   "cell_type": "markdown",
   "metadata": {},
   "source": [
    "## Гистограмма яркости"
   ]
  },
  {
   "cell_type": "code",
   "execution_count": 295,
   "metadata": {},
   "outputs": [],
   "source": [
    "brightness_clf = BrightnessClassifier()"
   ]
  },
  {
   "cell_type": "code",
   "execution_count": 296,
   "metadata": {},
   "outputs": [],
   "source": [
    "brightness_clf.fit(X_train, y_train)"
   ]
  },
  {
   "cell_type": "code",
   "execution_count": 297,
   "metadata": {},
   "outputs": [
    {
     "name": "stdout",
     "output_type": "stream",
     "text": [
      "CPU times: user 176 ms, sys: 194 µs, total: 177 ms\n",
      "Wall time: 174 ms\n"
     ]
    }
   ],
   "source": [
    "%%time\n",
    "y_pred = brightness_clf.predict(X_train)"
   ]
  },
  {
   "cell_type": "code",
   "execution_count": 298,
   "metadata": {},
   "outputs": [
    {
     "data": {
      "text/plain": [
       "1.0"
      ]
     },
     "execution_count": 298,
     "metadata": {},
     "output_type": "execute_result"
    }
   ],
   "source": [
    "accuracy_score(y_pred, y_train)"
   ]
  },
  {
   "cell_type": "markdown",
   "metadata": {},
   "source": [
    "## Дискретное преобразование Фурье"
   ]
  },
  {
   "cell_type": "code",
   "execution_count": 304,
   "metadata": {},
   "outputs": [],
   "source": [
    "dft_clf = DFTClassifier()"
   ]
  },
  {
   "cell_type": "code",
   "execution_count": 305,
   "metadata": {},
   "outputs": [],
   "source": [
    "dft_clf.fit(X_train, y_train)"
   ]
  },
  {
   "cell_type": "code",
   "execution_count": 306,
   "metadata": {},
   "outputs": [
    {
     "name": "stdout",
     "output_type": "stream",
     "text": [
      "CPU times: user 30.3 s, sys: 35.1 s, total: 1min 5s\n",
      "Wall time: 16.6 s\n"
     ]
    }
   ],
   "source": [
    "%%time\n",
    "y_pred = dft_clf.predict(X_train)"
   ]
  },
  {
   "cell_type": "code",
   "execution_count": 307,
   "metadata": {},
   "outputs": [
    {
     "data": {
      "text/plain": [
       "1.0"
      ]
     },
     "execution_count": 307,
     "metadata": {},
     "output_type": "execute_result"
    }
   ],
   "source": [
    "accuracy_score(y_pred, y_train)"
   ]
  },
  {
   "cell_type": "markdown",
   "metadata": {},
   "source": [
    "## Дискретное косинусное преобразование"
   ]
  },
  {
   "cell_type": "code",
   "execution_count": 312,
   "metadata": {},
   "outputs": [],
   "source": [
    "dct_clf = DCTClassifier()"
   ]
  },
  {
   "cell_type": "code",
   "execution_count": 313,
   "metadata": {},
   "outputs": [],
   "source": [
    "dct_clf.fit(X_train, y_train)"
   ]
  },
  {
   "cell_type": "code",
   "execution_count": 314,
   "metadata": {},
   "outputs": [
    {
     "name": "stdout",
     "output_type": "stream",
     "text": [
      "CPU times: user 6.87 s, sys: 7.02 s, total: 13.9 s\n",
      "Wall time: 3.53 s\n"
     ]
    }
   ],
   "source": [
    "%%time\n",
    "y_pred = dct_clf.predict(X_train)"
   ]
  },
  {
   "cell_type": "code",
   "execution_count": 315,
   "metadata": {},
   "outputs": [
    {
     "data": {
      "text/plain": [
       "1.0"
      ]
     },
     "execution_count": 315,
     "metadata": {},
     "output_type": "execute_result"
    }
   ],
   "source": [
    "accuracy_score(y_pred, y_train)"
   ]
  },
  {
   "cell_type": "markdown",
   "metadata": {},
   "source": [
    "## Масштабирование"
   ]
  },
  {
   "cell_type": "code",
   "execution_count": 320,
   "metadata": {},
   "outputs": [],
   "source": [
    "scale_clf = ScaleClassifier(sizes=[1.0, 0.9, 0.8, 0.5])"
   ]
  },
  {
   "cell_type": "code",
   "execution_count": 321,
   "metadata": {},
   "outputs": [
    {
     "name": "stdout",
     "output_type": "stream",
     "text": [
      "CPU times: user 3.11 s, sys: 3.01 s, total: 6.13 s\n",
      "Wall time: 2.05 s\n"
     ]
    }
   ],
   "source": [
    "%%time\n",
    "scale_clf.fit(X_train, y_train)"
   ]
  },
  {
   "cell_type": "code",
   "execution_count": 322,
   "metadata": {},
   "outputs": [
    {
     "name": "stdout",
     "output_type": "stream",
     "text": [
      "CPU times: user 23.7 s, sys: 24.9 s, total: 48.5 s\n",
      "Wall time: 12.2 s\n"
     ]
    }
   ],
   "source": [
    "%%time\n",
    "y_pred = scale_clf.predict(X_train)"
   ]
  },
  {
   "cell_type": "code",
   "execution_count": 323,
   "metadata": {},
   "outputs": [
    {
     "data": {
      "text/plain": [
       "1.0"
      ]
     },
     "execution_count": 323,
     "metadata": {},
     "output_type": "execute_result"
    }
   ],
   "source": [
    "accuracy_score(y_pred, y_train)"
   ]
  },
  {
   "cell_type": "markdown",
   "metadata": {},
   "source": [
    "## Градиент"
   ]
  },
  {
   "cell_type": "code",
   "execution_count": 333,
   "metadata": {},
   "outputs": [],
   "source": [
    "gradient_clf = GradientClassifier()"
   ]
  },
  {
   "cell_type": "code",
   "execution_count": 334,
   "metadata": {},
   "outputs": [],
   "source": [
    "gradient_clf.fit(X_train, y_train)"
   ]
  },
  {
   "cell_type": "code",
   "execution_count": 335,
   "metadata": {},
   "outputs": [
    {
     "name": "stdout",
     "output_type": "stream",
     "text": [
      "CPU times: user 6.43 s, sys: 6.44 s, total: 12.9 s\n",
      "Wall time: 3.26 s\n"
     ]
    }
   ],
   "source": [
    "%%time\n",
    "y_pred = gradient_clf.predict(X_train)"
   ]
  },
  {
   "cell_type": "code",
   "execution_count": 336,
   "metadata": {},
   "outputs": [
    {
     "data": {
      "text/plain": [
       "1.0"
      ]
     },
     "execution_count": 336,
     "metadata": {},
     "output_type": "execute_result"
    }
   ],
   "source": [
    "accuracy_score(y_pred, y_train)"
   ]
  },
  {
   "cell_type": "markdown",
   "metadata": {},
   "source": [
    "# Тестирование на тестовой выборке"
   ]
  },
  {
   "cell_type": "markdown",
   "metadata": {},
   "source": [
    "## Гистограмма яркости"
   ]
  },
  {
   "cell_type": "markdown",
   "metadata": {},
   "source": [
    "**Классификация с параметром по умолчанию `size=256`**"
   ]
  },
  {
   "cell_type": "code",
   "execution_count": 363,
   "metadata": {},
   "outputs": [],
   "source": [
    "brightness_clf = BrightnessClassifier()"
   ]
  },
  {
   "cell_type": "code",
   "execution_count": 364,
   "metadata": {},
   "outputs": [],
   "source": [
    "brightness_clf.fit(X_train, y_train)"
   ]
  },
  {
   "cell_type": "code",
   "execution_count": 365,
   "metadata": {},
   "outputs": [
    {
     "name": "stdout",
     "output_type": "stream",
     "text": [
      "CPU times: user 97.4 ms, sys: 0 ns, total: 97.4 ms\n",
      "Wall time: 96.8 ms\n"
     ]
    }
   ],
   "source": [
    "%%time\n",
    "y_pred = brightness_clf.predict(X_test)"
   ]
  },
  {
   "cell_type": "code",
   "execution_count": 366,
   "metadata": {},
   "outputs": [
    {
     "data": {
      "text/plain": [
       "1.0"
      ]
     },
     "execution_count": 366,
     "metadata": {},
     "output_type": "execute_result"
    }
   ],
   "source": [
    "accuracy_score(y_pred, y_test)"
   ]
  },
  {
   "cell_type": "markdown",
   "metadata": {},
   "source": [
    "**Классификация с параметром `size` в диапазоне [3..256]**"
   ]
  },
  {
   "cell_type": "code",
   "execution_count": 525,
   "metadata": {},
   "outputs": [
    {
     "name": "stdout",
     "output_type": "stream",
     "text": [
      "CPU times: user 21.4 s, sys: 9.04 ms, total: 21.4 s\n",
      "Wall time: 21.5 s\n"
     ]
    }
   ],
   "source": [
    "%%time\n",
    "accuracies = []\n",
    "for size in range(3, 257):\n",
    "    brightness_clf = BrightnessClassifier(hist_size=size)\n",
    "    brightness_clf.fit(X_train, y_train)\n",
    "    y_pred = brightness_clf.predict(X_test)\n",
    "    accuracies.append(accuracy_score(y_pred, y_test))"
   ]
  },
  {
   "cell_type": "code",
   "execution_count": 526,
   "metadata": {},
   "outputs": [
    {
     "data": {
      "image/png": "[encoded data removed]",
      "text/plain": [
       "<Figure size 432x288 with 1 Axes>"
      ]
     },
     "metadata": {
      "needs_background": "light"
     },
     "output_type": "display_data"
    }
   ],
   "source": [
    "plt.plot(range(3, 257), accuracies)\n",
    "plt.xlabel('hist_size')\n",
    "plt.ylabel('accuracy')\n",
    "plt.title('BrightnessClassifier');"
   ]
  },
  {
   "cell_type": "code",
   "execution_count": 528,
   "metadata": {},
   "outputs": [
    {
     "name": "stdout",
     "output_type": "stream",
     "text": [
      "Оптимальный параметр size: 9\n",
      "Точность: 1.0\n"
     ]
    }
   ],
   "source": [
    "print('Оптимальный параметр size:', np.arange(3, 257, 1)[np.argmax(accuracies)])\n",
    "print('Точность:', max(accuracies))"
   ]
  },
  {
   "cell_type": "markdown",
   "metadata": {},
   "source": [
    "## Дискретное преобразование Фурье"
   ]
  },
  {
   "cell_type": "markdown",
   "metadata": {},
   "source": [
    "**Классификация с параметром по умолчанию `size=1.0`**"
   ]
  },
  {
   "cell_type": "code",
   "execution_count": 517,
   "metadata": {},
   "outputs": [],
   "source": [
    "dft_clf = DFTClassifier()"
   ]
  },
  {
   "cell_type": "code",
   "execution_count": 518,
   "metadata": {},
   "outputs": [],
   "source": [
    "dft_clf.fit(X_train, y_train)"
   ]
  },
  {
   "cell_type": "code",
   "execution_count": 519,
   "metadata": {},
   "outputs": [
    {
     "name": "stdout",
     "output_type": "stream",
     "text": [
      "CPU times: user 1.66 s, sys: 1.8 s, total: 3.46 s\n",
      "Wall time: 904 ms\n"
     ]
    }
   ],
   "source": [
    "%%time\n",
    "y_pred = dft_clf.predict(X_test)"
   ]
  },
  {
   "cell_type": "code",
   "execution_count": 520,
   "metadata": {},
   "outputs": [
    {
     "data": {
      "text/plain": [
       "0.975"
      ]
     },
     "execution_count": 520,
     "metadata": {},
     "output_type": "execute_result"
    }
   ],
   "source": [
    "accuracy_score(y_pred, y_test)"
   ]
  },
  {
   "cell_type": "markdown",
   "metadata": {},
   "source": [
    "**Клссификация с параметром `size` в диапазоне [0.1..1.0]**"
   ]
  },
  {
   "cell_type": "code",
   "execution_count": 521,
   "metadata": {},
   "outputs": [
    {
     "name": "stdout",
     "output_type": "stream",
     "text": [
      "CPU times: user 15.9 s, sys: 2.9 s, total: 18.8 s\n",
      "Wall time: 15.2 s\n"
     ]
    }
   ],
   "source": [
    "%%time\n",
    "accuracies = []\n",
    "for size in np.arange(0.1, 1.05, 0.05):\n",
    "    dft_clf = DFTClassifier(size=size)\n",
    "    dft_clf.fit(X_train, y_train)\n",
    "    y_pred = dft_clf.predict(X_test)\n",
    "    accuracies.append(accuracy_score(y_pred, y_test))"
   ]
  },
  {
   "cell_type": "code",
   "execution_count": 522,
   "metadata": {},
   "outputs": [
    {
     "data": {
      "image/png": "[encoded data removed]",
      "text/plain": [
       "<Figure size 432x288 with 1 Axes>"
      ]
     },
     "metadata": {
      "needs_background": "light"
     },
     "output_type": "display_data"
    }
   ],
   "source": [
    "plt.plot(np.arange(0.1, 1.05, 0.05), accuracies)\n",
    "plt.xlabel('size')\n",
    "plt.ylabel('accuracy')\n",
    "plt.title('DFTClassifier');"
   ]
  },
  {
   "cell_type": "code",
   "execution_count": 524,
   "metadata": {},
   "outputs": [
    {
     "name": "stdout",
     "output_type": "stream",
     "text": [
      "Оптимальный параметр size: 0.5500000000000002\n",
      "Точность: 1.0\n"
     ]
    }
   ],
   "source": [
    "print('Оптимальный параметр size:', np.arange(0.1, 1.05, 0.05)[np.argmax(accuracies)])\n",
    "print('Точность:', max(accuracies))"
   ]
  },
  {
   "cell_type": "markdown",
   "metadata": {},
   "source": [
    "## Дискретное косинусное преобразование"
   ]
  },
  {
   "cell_type": "markdown",
   "metadata": {},
   "source": [
    "**Классификация с параметром по умолчанию `size=1.0`**"
   ]
  },
  {
   "cell_type": "code",
   "execution_count": 449,
   "metadata": {},
   "outputs": [],
   "source": [
    "dct_clf = DCTClassifier()"
   ]
  },
  {
   "cell_type": "code",
   "execution_count": 450,
   "metadata": {},
   "outputs": [],
   "source": [
    "dct_clf.fit(X_train, y_train)"
   ]
  },
  {
   "cell_type": "code",
   "execution_count": 451,
   "metadata": {},
   "outputs": [
    {
     "name": "stdout",
     "output_type": "stream",
     "text": [
      "CPU times: user 936 ms, sys: 1.19 s, total: 2.12 s\n",
      "Wall time: 557 ms\n"
     ]
    }
   ],
   "source": [
    "%%time\n",
    "y_pred = dct_clf.predict(X_test)"
   ]
  },
  {
   "cell_type": "code",
   "execution_count": 452,
   "metadata": {},
   "outputs": [
    {
     "data": {
      "text/plain": [
       "0.975"
      ]
     },
     "execution_count": 452,
     "metadata": {},
     "output_type": "execute_result"
    }
   ],
   "source": [
    "accuracy_score(y_pred, y_test)"
   ]
  },
  {
   "cell_type": "markdown",
   "metadata": {},
   "source": [
    "**Клссификация с параметром `size` в диапазоне [0.1..1.0]**"
   ]
  },
  {
   "cell_type": "code",
   "execution_count": 529,
   "metadata": {},
   "outputs": [
    {
     "name": "stdout",
     "output_type": "stream",
     "text": [
      "CPU times: user 8.68 s, sys: 1.06 s, total: 9.74 s\n",
      "Wall time: 8.26 s\n"
     ]
    }
   ],
   "source": [
    "%%time\n",
    "accuracies = []\n",
    "for size in np.arange(0.1, 1.05, 0.05):\n",
    "    dct_clf = DCTClassifier(size=size)\n",
    "    dct_clf.fit(X_train, y_train)\n",
    "    y_pred = dct_clf.predict(X_test)\n",
    "    accuracies.append(accuracy_score(y_pred, y_test))"
   ]
  },
  {
   "cell_type": "code",
   "execution_count": 530,
   "metadata": {},
   "outputs": [
    {
     "data": {
      "image/png": "[encoded data removed]",
      "text/plain": [
       "<Figure size 432x288 with 1 Axes>"
      ]
     },
     "metadata": {
      "needs_background": "light"
     },
     "output_type": "display_data"
    }
   ],
   "source": [
    "plt.plot(np.arange(0.1, 1.05, 0.05), accuracies)\n",
    "plt.xlabel('size')\n",
    "plt.ylabel('accuracy')\n",
    "plt.title('DCTClassifier');"
   ]
  },
  {
   "cell_type": "code",
   "execution_count": 531,
   "metadata": {},
   "outputs": [
    {
     "name": "stdout",
     "output_type": "stream",
     "text": [
      "Оптимальный параметр size: 0.1\n",
      "Точность: 1.0\n"
     ]
    }
   ],
   "source": [
    "print('Оптимальный параметр size:', np.arange(0.1, 1.05, 0.05)[np.argmax(accuracies)])\n",
    "print('Точность:', max(accuracies))"
   ]
  },
  {
   "cell_type": "markdown",
   "metadata": {},
   "source": [
    "## Масштабирование"
   ]
  },
  {
   "cell_type": "code",
   "execution_count": 483,
   "metadata": {},
   "outputs": [],
   "source": [
    "scale_clf = ScaleClassifier(sizes=[0.1, 0.5, 0.8])"
   ]
  },
  {
   "cell_type": "code",
   "execution_count": 484,
   "metadata": {},
   "outputs": [
    {
     "name": "stdout",
     "output_type": "stream",
     "text": [
      "CPU times: user 1.74 s, sys: 1.61 s, total: 3.35 s\n",
      "Wall time: 1.15 s\n"
     ]
    }
   ],
   "source": [
    "%%time\n",
    "scale_clf.fit(X_train, y_train)"
   ]
  },
  {
   "cell_type": "code",
   "execution_count": 485,
   "metadata": {},
   "outputs": [
    {
     "name": "stdout",
     "output_type": "stream",
     "text": [
      "CPU times: user 1.18 s, sys: 1.13 s, total: 2.31 s\n",
      "Wall time: 796 ms\n"
     ]
    }
   ],
   "source": [
    "%%time\n",
    "y_pred = scale_clf.predict(X_test)"
   ]
  },
  {
   "cell_type": "code",
   "execution_count": 486,
   "metadata": {},
   "outputs": [
    {
     "data": {
      "text/plain": [
       "0.975"
      ]
     },
     "execution_count": 486,
     "metadata": {},
     "output_type": "execute_result"
    }
   ],
   "source": [
    "accuracy_score(y_pred, y_test)"
   ]
  },
  {
   "cell_type": "markdown",
   "metadata": {},
   "source": [
    "**Классификация с параметром `sizes` в диапазоне [0.05..1.0]**"
   ]
  },
  {
   "cell_type": "code",
   "execution_count": 487,
   "metadata": {},
   "outputs": [
    {
     "name": "stdout",
     "output_type": "stream",
     "text": [
      "CPU times: user 24.3 s, sys: 22.5 s, total: 46.8 s\n",
      "Wall time: 15.8 s\n"
     ]
    }
   ],
   "source": [
    "%%time\n",
    "accuracies = []\n",
    "for size in np.arange(0.05, 1.05, 0.05):\n",
    "    scale_clf = ScaleClassifier(sizes=[size])\n",
    "    scale_clf.fit(X_train, y_train)\n",
    "    y_pred = scale_clf.predict(X_test)\n",
    "    accuracies.append(accuracy_score(y_pred, y_test))"
   ]
  },
  {
   "cell_type": "code",
   "execution_count": 488,
   "metadata": {},
   "outputs": [
    {
     "data": {
      "image/png": "[encoded data removed]",
      "text/plain": [
       "<Figure size 432x288 with 1 Axes>"
      ]
     },
     "metadata": {
      "needs_background": "light"
     },
     "output_type": "display_data"
    }
   ],
   "source": [
    "plt.plot(np.arange(0.05, 1.05, 0.05), accuracies)\n",
    "plt.xlabel('size')\n",
    "plt.ylabel('accuracy')\n",
    "plt.title('ScaleClassifier');"
   ]
  },
  {
   "cell_type": "markdown",
   "metadata": {},
   "source": [
    "**Классификация с параметром `sizes` в диапазоне [0.05..1.0].    \n",
    "Предыдущие параметры на каждой итерации не удаляются**"
   ]
  },
  {
   "cell_type": "code",
   "execution_count": 489,
   "metadata": {},
   "outputs": [
    {
     "name": "stdout",
     "output_type": "stream",
     "text": [
      "CPU times: user 3min 22s, sys: 3min 18s, total: 6min 40s\n",
      "Wall time: 2min 19s\n"
     ]
    }
   ],
   "source": [
    "%%time\n",
    "accuracies = []\n",
    "sizes = []\n",
    "for size in np.arange(0.05, 1.05, 0.05):\n",
    "    sizes.append(size)\n",
    "    scale_clf = ScaleClassifier(sizes=sizes)\n",
    "    scale_clf.fit(X_train, y_train)\n",
    "    y_pred = scale_clf.predict(X_test)\n",
    "    accuracies.append(accuracy_score(y_pred, y_test))"
   ]
  },
  {
   "cell_type": "code",
   "execution_count": 492,
   "metadata": {},
   "outputs": [
    {
     "data": {
      "image/png": "[encoded data removed]",
      "text/plain": [
       "<Figure size 432x288 with 1 Axes>"
      ]
     },
     "metadata": {
      "needs_background": "light"
     },
     "output_type": "display_data"
    }
   ],
   "source": [
    "plt.plot(np.arange(0.05, 1.05, 0.05), accuracies)\n",
    "plt.xlabel('size')\n",
    "plt.ylabel('accuracy')\n",
    "plt.title('ScaleClassifier');"
   ]
  },
  {
   "cell_type": "code",
   "execution_count": 501,
   "metadata": {},
   "outputs": [
    {
     "name": "stdout",
     "output_type": "stream",
     "text": [
      "Оптимальный набор параметров: [0.05, 0.1, 0.15000000000000002]\n",
      "Точность: 1.0\n"
     ]
    }
   ],
   "source": [
    "print('Оптимальный набор параметров:', sizes[:np.argmax(accuracies) + 1])\n",
    "print('Точность:', np.max(accuracies))"
   ]
  },
  {
   "cell_type": "markdown",
   "metadata": {},
   "source": [
    "## Градиент"
   ]
  },
  {
   "cell_type": "markdown",
   "metadata": {},
   "source": [
    "**Классификация с параметром по умолчанию `ksize=-1`.    \n",
    "В этом случае используется `3x3 Scharr` фильтер.**"
   ]
  },
  {
   "cell_type": "code",
   "execution_count": 502,
   "metadata": {},
   "outputs": [],
   "source": [
    "gradient_clf = GradientClassifier()"
   ]
  },
  {
   "cell_type": "code",
   "execution_count": 503,
   "metadata": {},
   "outputs": [],
   "source": [
    "gradient_clf.fit(X_train, y_train)"
   ]
  },
  {
   "cell_type": "code",
   "execution_count": 504,
   "metadata": {},
   "outputs": [
    {
     "name": "stdout",
     "output_type": "stream",
     "text": [
      "CPU times: user 1.14 s, sys: 1.33 s, total: 2.48 s\n",
      "Wall time: 721 ms\n"
     ]
    }
   ],
   "source": [
    "%%time\n",
    "y_pred = gradient_clf.predict(X_test)"
   ]
  },
  {
   "cell_type": "code",
   "execution_count": 505,
   "metadata": {},
   "outputs": [
    {
     "data": {
      "text/plain": [
       "0.65"
      ]
     },
     "execution_count": 505,
     "metadata": {},
     "output_type": "execute_result"
    }
   ],
   "source": [
    "accuracy_score(y_pred, y_test)"
   ]
  },
  {
   "cell_type": "markdown",
   "metadata": {},
   "source": [
    "**Классификация с параметром `ksize` в диапазоне [3..31] с шагом 2** "
   ]
  },
  {
   "cell_type": "code",
   "execution_count": 512,
   "metadata": {},
   "outputs": [
    {
     "name": "stdout",
     "output_type": "stream",
     "text": [
      "CPU times: user 19.9 s, sys: 21.6 s, total: 41.5 s\n",
      "Wall time: 12.9 s\n"
     ]
    }
   ],
   "source": [
    "%%time\n",
    "accuracies = []\n",
    "for ksize in range(3, 31 + 1, 2):\n",
    "    gradient_clf = GradientClassifier(ksize=ksize)\n",
    "    gradient_clf.fit(X_train, y_train)\n",
    "    y_pred = gradient_clf.predict(X_test)\n",
    "    accuracies.append(accuracy_score(y_pred, y_test))"
   ]
  },
  {
   "cell_type": "code",
   "execution_count": 513,
   "metadata": {},
   "outputs": [
    {
     "data": {
      "image/png": "[encoded data removed]",
      "text/plain": [
       "<Figure size 432x288 with 1 Axes>"
      ]
     },
     "metadata": {
      "needs_background": "light"
     },
     "output_type": "display_data"
    }
   ],
   "source": [
    "plt.plot(range(3, 31 + 1, 2), accuracies)\n",
    "plt.xlabel('ksize')\n",
    "plt.ylabel('accuracy')\n",
    "plt.title('GradientClassifier');"
   ]
  },
  {
   "cell_type": "code",
   "execution_count": 515,
   "metadata": {},
   "outputs": [
    {
     "name": "stdout",
     "output_type": "stream",
     "text": [
      "Оптимальный параметр ksize: 29\n",
      "Точность: 0.975\n"
     ]
    }
   ],
   "source": [
    "print('Оптимальный параметр ksize:', list(range(3, 32, 2))[np.argmax(accuracies)])\n",
    "print('Точность:', max(accuracies))"
   ]
  },
  {
   "cell_type": "code",
   "execution_count": null,
   "metadata": {},
   "outputs": [],
   "source": []
  }
 ],
 "metadata": {
  "kernelspec": {
   "display_name": "Python 3",
   "language": "python",
   "name": "python3"
  },
  "language_info": {
   "codemirror_mode": {
    "name": "ipython",
    "version": 3
   },
   "file_extension": ".py",
   "mimetype": "text/x-python",
   "name": "python",
   "nbconvert_exporter": "python",
   "pygments_lexer": "ipython3",
   "version": "3.7.1"
  }
 },
 "nbformat": 4,
 "nbformat_minor": 2
}
